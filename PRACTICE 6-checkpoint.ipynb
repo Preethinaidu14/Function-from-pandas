{
 "cells": [
  {
   "cell_type": "markdown",
   "metadata": {},
   "source": [
    "## FUCNTIONS FROM PANDAS"
   ]
  },
  {
   "cell_type": "code",
   "execution_count": 8,
   "metadata": {},
   "outputs": [],
   "source": [
    "import pandas as pd\n",
    "from pandas import Series,DataFrame\n",
    "d1 = Series([8,9,45,32,5,1])\n"
   ]
  },
  {
   "cell_type": "code",
   "execution_count": 9,
   "metadata": {},
   "outputs": [
    {
     "data": {
      "text/plain": [
       "RangeIndex(start=0, stop=6, step=1)"
      ]
     },
     "execution_count": 9,
     "metadata": {},
     "output_type": "execute_result"
    }
   ],
   "source": [
    "d1.index"
   ]
  },
  {
   "cell_type": "code",
   "execution_count": 10,
   "metadata": {},
   "outputs": [
    {
     "data": {
      "text/plain": [
       "array([ 8,  9, 45, 32,  5,  1], dtype=int64)"
      ]
     },
     "execution_count": 10,
     "metadata": {},
     "output_type": "execute_result"
    }
   ],
   "source": [
    "d1.values"
   ]
  },
  {
   "cell_type": "code",
   "execution_count": 11,
   "metadata": {},
   "outputs": [
    {
     "data": {
      "text/plain": [
       "0     8\n",
       "1     9\n",
       "2    45\n",
       "3    32\n",
       "4     5\n",
       "5     1\n",
       "dtype: int64"
      ]
     },
     "execution_count": 11,
     "metadata": {},
     "output_type": "execute_result"
    }
   ],
   "source": [
    "d1"
   ]
  },
  {
   "cell_type": "code",
   "execution_count": 13,
   "metadata": {},
   "outputs": [],
   "source": [
    "d1 = Series([8,9,45,32,5,1],index = ['a','b','c','d','e','f'])"
   ]
  },
  {
   "cell_type": "code",
   "execution_count": 14,
   "metadata": {},
   "outputs": [
    {
     "data": {
      "text/plain": [
       "a     8\n",
       "b     9\n",
       "c    45\n",
       "d    32\n",
       "e     5\n",
       "f     1\n",
       "dtype: int64"
      ]
     },
     "execution_count": 14,
     "metadata": {},
     "output_type": "execute_result"
    }
   ],
   "source": [
    "d1"
   ]
  },
  {
   "cell_type": "code",
   "execution_count": 17,
   "metadata": {},
   "outputs": [],
   "source": [
    "d1['g'] = 67"
   ]
  },
  {
   "cell_type": "code",
   "execution_count": 18,
   "metadata": {},
   "outputs": [
    {
     "data": {
      "text/plain": [
       "a     8\n",
       "b     9\n",
       "c    45\n",
       "d    32\n",
       "e     5\n",
       "f     1\n",
       "g    67\n",
       "dtype: int64"
      ]
     },
     "execution_count": 18,
     "metadata": {},
     "output_type": "execute_result"
    }
   ],
   "source": [
    "d1"
   ]
  },
  {
   "cell_type": "code",
   "execution_count": 16,
   "metadata": {},
   "outputs": [
    {
     "data": {
      "text/plain": [
       "count     6.000000\n",
       "mean     16.666667\n",
       "std      17.625739\n",
       "min       1.000000\n",
       "25%       5.750000\n",
       "50%       8.500000\n",
       "75%      26.250000\n",
       "max      45.000000\n",
       "dtype: float64"
      ]
     },
     "execution_count": 16,
     "metadata": {},
     "output_type": "execute_result"
    }
   ],
   "source": [
    "d1.describe()"
   ]
  },
  {
   "cell_type": "code",
   "execution_count": 19,
   "metadata": {},
   "outputs": [
    {
     "name": "stdout",
     "output_type": "stream",
     "text": [
      "a     True\n",
      "b     True\n",
      "c    False\n",
      "d    False\n",
      "e     True\n",
      "f     True\n",
      "g    False\n",
      "dtype: bool\n"
     ]
    }
   ],
   "source": [
    "print(d1<10)"
   ]
  },
  {
   "cell_type": "code",
   "execution_count": 20,
   "metadata": {},
   "outputs": [
    {
     "name": "stdout",
     "output_type": "stream",
     "text": [
      "a    8\n",
      "b    9\n",
      "e    5\n",
      "f    1\n",
      "dtype: int64\n"
     ]
    }
   ],
   "source": [
    "print(d1[d1<10])"
   ]
  },
  {
   "cell_type": "markdown",
   "metadata": {},
   "source": [
    "## create 100 random numbers btw 1-100 using series  and find the sum of all those numbers that lies btw 40 and 60"
   ]
  },
  {
   "cell_type": "code",
   "execution_count": 24,
   "metadata": {},
   "outputs": [],
   "source": [
    "import pandas as pd\n",
    "import random\n",
    "from pandas import Series, DataFrame\n",
    "d2 = Series([random.randint(1,100) for i in range(100)])"
   ]
  },
  {
   "cell_type": "code",
   "execution_count": 31,
   "metadata": {},
   "outputs": [
    {
     "name": "stdout",
     "output_type": "stream",
     "text": [
      "0     59\n",
      "3     51\n",
      "7     41\n",
      "8     55\n",
      "9     52\n",
      "10    56\n",
      "18    47\n",
      "20    46\n",
      "26    56\n",
      "27    41\n",
      "30    43\n",
      "41    59\n",
      "43    40\n",
      "53    41\n",
      "55    47\n",
      "56    40\n",
      "69    43\n",
      "78    47\n",
      "82    40\n",
      "85    50\n",
      "87    57\n",
      "88    55\n",
      "89    47\n",
      "dtype: int64\n",
      "1113\n"
     ]
    }
   ],
   "source": [
    "s = d2[(d2>=40) & (d2<=60)]\n",
    "print(s)\n",
    "total_sum = sum(s)\n",
    "print(total_sum)"
   ]
  },
  {
   "cell_type": "code",
   "execution_count": 32,
   "metadata": {},
   "outputs": [
    {
     "data": {
      "text/plain": [
       "23"
      ]
     },
     "execution_count": 32,
     "metadata": {},
     "output_type": "execute_result"
    }
   ],
   "source": [
    "len(s)"
   ]
  },
  {
   "cell_type": "code",
   "execution_count": 35,
   "metadata": {},
   "outputs": [
    {
     "data": {
      "text/plain": [
       "0    59\n",
       "1     5\n",
       "2    73\n",
       "3    51\n",
       "4    27\n",
       "5    88\n",
       "6    28\n",
       "7    41\n",
       "8    55\n",
       "9    52\n",
       "dtype: int64"
      ]
     },
     "execution_count": 35,
     "metadata": {},
     "output_type": "execute_result"
    }
   ],
   "source": [
    "d2.head(10)"
   ]
  },
  {
   "cell_type": "code",
   "execution_count": 36,
   "metadata": {},
   "outputs": [
    {
     "data": {
      "text/plain": [
       "90    10\n",
       "91    81\n",
       "92    88\n",
       "93    19\n",
       "94    97\n",
       "95    76\n",
       "96     3\n",
       "97    71\n",
       "98    91\n",
       "99    26\n",
       "dtype: int64"
      ]
     },
     "execution_count": 36,
     "metadata": {},
     "output_type": "execute_result"
    }
   ],
   "source": [
    "d2.tail(10)"
   ]
  },
  {
   "cell_type": "code",
   "execution_count": 37,
   "metadata": {},
   "outputs": [
    {
     "data": {
      "text/plain": [
       "0     3481\n",
       "1       25\n",
       "2     5329\n",
       "3     2601\n",
       "4      729\n",
       "5     7744\n",
       "6      784\n",
       "7     1681\n",
       "8     3025\n",
       "9     2704\n",
       "10    3136\n",
       "11    9801\n",
       "12      49\n",
       "13    6561\n",
       "14     729\n",
       "15    7056\n",
       "16      64\n",
       "17    7744\n",
       "18    2209\n",
       "19     169\n",
       "20    2116\n",
       "21    4761\n",
       "22    4096\n",
       "23    8649\n",
       "24    3969\n",
       "25    1024\n",
       "26    3136\n",
       "27    1681\n",
       "28    8464\n",
       "29     961\n",
       "      ... \n",
       "70      36\n",
       "71     576\n",
       "72    5929\n",
       "73      16\n",
       "74    8100\n",
       "75     256\n",
       "76      25\n",
       "77    4489\n",
       "78    2209\n",
       "79    3969\n",
       "80    5041\n",
       "81     729\n",
       "82    1600\n",
       "83    7569\n",
       "84    8836\n",
       "85    2500\n",
       "86     324\n",
       "87    3249\n",
       "88    3025\n",
       "89    2209\n",
       "90     100\n",
       "91    6561\n",
       "92    7744\n",
       "93     361\n",
       "94    9409\n",
       "95    5776\n",
       "96       9\n",
       "97    5041\n",
       "98    8281\n",
       "99     676\n",
       "Length: 100, dtype: int64"
      ]
     },
     "execution_count": 37,
     "metadata": {},
     "output_type": "execute_result"
    }
   ],
   "source": [
    "d2*d2"
   ]
  },
  {
   "cell_type": "code",
   "execution_count": 38,
   "metadata": {},
   "outputs": [
    {
     "data": {
      "text/plain": [
       "count    100.000000\n",
       "mean      52.330000\n",
       "std       29.884645\n",
       "min        2.000000\n",
       "25%       27.750000\n",
       "50%       51.500000\n",
       "75%       81.250000\n",
       "max       99.000000\n",
       "dtype: float64"
      ]
     },
     "execution_count": 38,
     "metadata": {},
     "output_type": "execute_result"
    }
   ],
   "source": [
    "d2.describe()"
   ]
  },
  {
   "cell_type": "code",
   "execution_count": 39,
   "metadata": {},
   "outputs": [
    {
     "data": {
      "text/plain": [
       "[(0, 59),\n",
       " (1, 5),\n",
       " (2, 73),\n",
       " (3, 51),\n",
       " (4, 27),\n",
       " (5, 88),\n",
       " (6, 28),\n",
       " (7, 41),\n",
       " (8, 55),\n",
       " (9, 52),\n",
       " (10, 56),\n",
       " (11, 99),\n",
       " (12, 7),\n",
       " (13, 81),\n",
       " (14, 27),\n",
       " (15, 84),\n",
       " (16, 8),\n",
       " (17, 88),\n",
       " (18, 47),\n",
       " (19, 13),\n",
       " (20, 46),\n",
       " (21, 69),\n",
       " (22, 64),\n",
       " (23, 93),\n",
       " (24, 63),\n",
       " (25, 32),\n",
       " (26, 56),\n",
       " (27, 41),\n",
       " (28, 92),\n",
       " (29, 31),\n",
       " (30, 43),\n",
       " (31, 94),\n",
       " (32, 94),\n",
       " (33, 20),\n",
       " (34, 32),\n",
       " (35, 99),\n",
       " (36, 4),\n",
       " (37, 86),\n",
       " (38, 33),\n",
       " (39, 4),\n",
       " (40, 87),\n",
       " (41, 59),\n",
       " (42, 97),\n",
       " (43, 40),\n",
       " (44, 68),\n",
       " (45, 83),\n",
       " (46, 66),\n",
       " (47, 36),\n",
       " (48, 88),\n",
       " (49, 85),\n",
       " (50, 14),\n",
       " (51, 2),\n",
       " (52, 81),\n",
       " (53, 41),\n",
       " (54, 93),\n",
       " (55, 47),\n",
       " (56, 40),\n",
       " (57, 89),\n",
       " (58, 33),\n",
       " (59, 31),\n",
       " (60, 82),\n",
       " (61, 29),\n",
       " (62, 82),\n",
       " (63, 7),\n",
       " (64, 20),\n",
       " (65, 28),\n",
       " (66, 22),\n",
       " (67, 75),\n",
       " (68, 73),\n",
       " (69, 43),\n",
       " (70, 6),\n",
       " (71, 24),\n",
       " (72, 77),\n",
       " (73, 4),\n",
       " (74, 90),\n",
       " (75, 16),\n",
       " (76, 5),\n",
       " (77, 67),\n",
       " (78, 47),\n",
       " (79, 63),\n",
       " (80, 71),\n",
       " (81, 27),\n",
       " (82, 40),\n",
       " (83, 87),\n",
       " (84, 94),\n",
       " (85, 50),\n",
       " (86, 18),\n",
       " (87, 57),\n",
       " (88, 55),\n",
       " (89, 47),\n",
       " (90, 10),\n",
       " (91, 81),\n",
       " (92, 88),\n",
       " (93, 19),\n",
       " (94, 97),\n",
       " (95, 76),\n",
       " (96, 3),\n",
       " (97, 71),\n",
       " (98, 91),\n",
       " (99, 26)]"
      ]
     },
     "execution_count": 39,
     "metadata": {},
     "output_type": "execute_result"
    }
   ],
   "source": [
    "list(d2.items())"
   ]
  },
  {
   "cell_type": "markdown",
   "metadata": {},
   "source": [
    "## CREATE A DICT OF POPULATION OF 7-8 STATES"
   ]
  },
  {
   "cell_type": "code",
   "execution_count": 40,
   "metadata": {},
   "outputs": [],
   "source": [
    "import pandas as pd\n",
    "from pandas import Series, DataFrame\n",
    "\n",
    "population = {'AP':89,'MP':45,'TN':67,'UP':64,'JK':85,'MAH':87}"
   ]
  },
  {
   "cell_type": "code",
   "execution_count": 41,
   "metadata": {},
   "outputs": [
    {
     "data": {
      "text/plain": [
       "AP     89\n",
       "MP     45\n",
       "TN     67\n",
       "UP     64\n",
       "JK     85\n",
       "MAH    87\n",
       "dtype: int64"
      ]
     },
     "execution_count": 41,
     "metadata": {},
     "output_type": "execute_result"
    }
   ],
   "source": [
    "Series(population)"
   ]
  },
  {
   "cell_type": "code",
   "execution_count": 43,
   "metadata": {},
   "outputs": [
    {
     "name": "stdout",
     "output_type": "stream",
     "text": [
      "MP     45.0\n",
      "GUJ     NaN\n",
      "UP     64.0\n",
      "MAH    87.0\n",
      "TN     67.0\n",
      "JK     85.0\n",
      "AP     89.0\n",
      "GOA     NaN\n",
      "dtype: float64\n"
     ]
    }
   ],
   "source": [
    "States = {'AP','TN','MP','UP','JK','GUJ','MAH','GOA'}\n",
    "d3 = Series(population, index = States)\n",
    "print(d3)"
   ]
  },
  {
   "cell_type": "code",
   "execution_count": 44,
   "metadata": {},
   "outputs": [
    {
     "data": {
      "text/plain": [
       "MP     False\n",
       "GUJ     True\n",
       "UP     False\n",
       "MAH    False\n",
       "TN     False\n",
       "JK     False\n",
       "AP     False\n",
       "GOA     True\n",
       "dtype: bool"
      ]
     },
     "execution_count": 44,
     "metadata": {},
     "output_type": "execute_result"
    }
   ],
   "source": [
    "pd.isnull(d3)"
   ]
  },
  {
   "cell_type": "code",
   "execution_count": 45,
   "metadata": {},
   "outputs": [
    {
     "data": {
      "text/plain": [
       "MP      True\n",
       "GUJ    False\n",
       "UP      True\n",
       "MAH     True\n",
       "TN      True\n",
       "JK      True\n",
       "AP      True\n",
       "GOA    False\n",
       "dtype: bool"
      ]
     },
     "execution_count": 45,
     "metadata": {},
     "output_type": "execute_result"
    }
   ],
   "source": [
    "pd.notnull(d3)"
   ]
  },
  {
   "cell_type": "code",
   "execution_count": 46,
   "metadata": {},
   "outputs": [
    {
     "data": {
      "text/plain": [
       "6"
      ]
     },
     "execution_count": 46,
     "metadata": {},
     "output_type": "execute_result"
    }
   ],
   "source": [
    "sum(pd.notnull(d3))"
   ]
  },
  {
   "cell_type": "code",
   "execution_count": 48,
   "metadata": {},
   "outputs": [],
   "source": [
    "d3[pd.isnull]=100"
   ]
  },
  {
   "cell_type": "code",
   "execution_count": 49,
   "metadata": {},
   "outputs": [
    {
     "data": {
      "text/plain": [
       "MP      45.0\n",
       "GUJ    100.0\n",
       "UP      64.0\n",
       "MAH     87.0\n",
       "TN      67.0\n",
       "JK      85.0\n",
       "AP      89.0\n",
       "GOA    100.0\n",
       "dtype: float64"
      ]
     },
     "execution_count": 49,
     "metadata": {},
     "output_type": "execute_result"
    }
   ],
   "source": [
    "d3"
   ]
  },
  {
   "cell_type": "markdown",
   "metadata": {},
   "source": [
    "## create a dataframe of population and density of 10 indian states\n",
    "## 1st column = states, 2nd coulmn = population and 3rd column = density"
   ]
  },
  {
   "cell_type": "code",
   "execution_count": 59,
   "metadata": {},
   "outputs": [],
   "source": [
    "import pandas as pd\n",
    "from pandas import Series, DataFrame\n",
    "population = {'U.P' : 10 ,'M.P' : 20 ,'A.P' : 30 ,'T.N' : 40 ,'BIH' : 12 , 'W.B' : 30, 'J.K' : 16}\n",
    "density =  {'U.P' : 828 ,'M.P' : 236 ,'A.P' : 303 ,'T.N' : 555 ,'BIH' : 1102 , 'W.B' : 1029, 'J.K' : 57}"
   ]
  },
  {
   "cell_type": "code",
   "execution_count": 60,
   "metadata": {},
   "outputs": [
    {
     "data": {
      "text/html": [
       "<div>\n",
       "<style scoped>\n",
       "    .dataframe tbody tr th:only-of-type {\n",
       "        vertical-align: middle;\n",
       "    }\n",
       "\n",
       "    .dataframe tbody tr th {\n",
       "        vertical-align: top;\n",
       "    }\n",
       "\n",
       "    .dataframe thead th {\n",
       "        text-align: right;\n",
       "    }\n",
       "</style>\n",
       "<table border=\"1\" class=\"dataframe\">\n",
       "  <thead>\n",
       "    <tr style=\"text-align: right;\">\n",
       "      <th></th>\n",
       "      <th>population</th>\n",
       "      <th>density</th>\n",
       "    </tr>\n",
       "  </thead>\n",
       "  <tbody>\n",
       "    <tr>\n",
       "      <th>U.P</th>\n",
       "      <td>10</td>\n",
       "      <td>828</td>\n",
       "    </tr>\n",
       "    <tr>\n",
       "      <th>M.P</th>\n",
       "      <td>20</td>\n",
       "      <td>236</td>\n",
       "    </tr>\n",
       "    <tr>\n",
       "      <th>A.P</th>\n",
       "      <td>30</td>\n",
       "      <td>303</td>\n",
       "    </tr>\n",
       "    <tr>\n",
       "      <th>T.N</th>\n",
       "      <td>40</td>\n",
       "      <td>555</td>\n",
       "    </tr>\n",
       "    <tr>\n",
       "      <th>BIH</th>\n",
       "      <td>12</td>\n",
       "      <td>1102</td>\n",
       "    </tr>\n",
       "    <tr>\n",
       "      <th>W.B</th>\n",
       "      <td>30</td>\n",
       "      <td>1029</td>\n",
       "    </tr>\n",
       "    <tr>\n",
       "      <th>J.K</th>\n",
       "      <td>16</td>\n",
       "      <td>57</td>\n",
       "    </tr>\n",
       "  </tbody>\n",
       "</table>\n",
       "</div>"
      ],
      "text/plain": [
       "     population  density\n",
       "U.P          10      828\n",
       "M.P          20      236\n",
       "A.P          30      303\n",
       "T.N          40      555\n",
       "BIH          12     1102\n",
       "W.B          30     1029\n",
       "J.K          16       57"
      ]
     },
     "execution_count": 60,
     "metadata": {},
     "output_type": "execute_result"
    }
   ],
   "source": [
    "population = Series(population)\n",
    "density = Series(density)\n",
    "data = DataFrame({'population' : population,'density' : density})\n",
    "data"
   ]
  },
  {
   "cell_type": "code",
   "execution_count": 62,
   "metadata": {},
   "outputs": [
    {
     "data": {
      "text/html": [
       "<div>\n",
       "<style scoped>\n",
       "    .dataframe tbody tr th:only-of-type {\n",
       "        vertical-align: middle;\n",
       "    }\n",
       "\n",
       "    .dataframe tbody tr th {\n",
       "        vertical-align: top;\n",
       "    }\n",
       "\n",
       "    .dataframe thead th {\n",
       "        text-align: right;\n",
       "    }\n",
       "</style>\n",
       "<table border=\"1\" class=\"dataframe\">\n",
       "  <thead>\n",
       "    <tr style=\"text-align: right;\">\n",
       "      <th></th>\n",
       "      <th>population(billions)</th>\n",
       "      <th>density</th>\n",
       "      <th>Area</th>\n",
       "    </tr>\n",
       "  </thead>\n",
       "  <tbody>\n",
       "    <tr>\n",
       "      <th>U.P</th>\n",
       "      <td>10</td>\n",
       "      <td>828</td>\n",
       "      <td>0.012077</td>\n",
       "    </tr>\n",
       "    <tr>\n",
       "      <th>M.P</th>\n",
       "      <td>20</td>\n",
       "      <td>236</td>\n",
       "      <td>0.084746</td>\n",
       "    </tr>\n",
       "    <tr>\n",
       "      <th>A.P</th>\n",
       "      <td>30</td>\n",
       "      <td>303</td>\n",
       "      <td>0.099010</td>\n",
       "    </tr>\n",
       "    <tr>\n",
       "      <th>T.N</th>\n",
       "      <td>40</td>\n",
       "      <td>555</td>\n",
       "      <td>0.072072</td>\n",
       "    </tr>\n",
       "    <tr>\n",
       "      <th>BIH</th>\n",
       "      <td>12</td>\n",
       "      <td>1102</td>\n",
       "      <td>0.010889</td>\n",
       "    </tr>\n",
       "    <tr>\n",
       "      <th>W.B</th>\n",
       "      <td>30</td>\n",
       "      <td>1029</td>\n",
       "      <td>0.029155</td>\n",
       "    </tr>\n",
       "    <tr>\n",
       "      <th>J.K</th>\n",
       "      <td>16</td>\n",
       "      <td>57</td>\n",
       "      <td>0.280702</td>\n",
       "    </tr>\n",
       "  </tbody>\n",
       "</table>\n",
       "</div>"
      ],
      "text/plain": [
       "     population(billions)  density      Area\n",
       "U.P                    10      828  0.012077\n",
       "M.P                    20      236  0.084746\n",
       "A.P                    30      303  0.099010\n",
       "T.N                    40      555  0.072072\n",
       "BIH                    12     1102  0.010889\n",
       "W.B                    30     1029  0.029155\n",
       "J.K                    16       57  0.280702"
      ]
     },
     "execution_count": 62,
     "metadata": {},
     "output_type": "execute_result"
    }
   ],
   "source": [
    "data = DataFrame({'population(billions)':population,'density':density,'Area':population/density})\n",
    "data"
   ]
  },
  {
   "cell_type": "code",
   "execution_count": 63,
   "metadata": {},
   "outputs": [
    {
     "data": {
      "text/html": [
       "<div>\n",
       "<style scoped>\n",
       "    .dataframe tbody tr th:only-of-type {\n",
       "        vertical-align: middle;\n",
       "    }\n",
       "\n",
       "    .dataframe tbody tr th {\n",
       "        vertical-align: top;\n",
       "    }\n",
       "\n",
       "    .dataframe thead th {\n",
       "        text-align: right;\n",
       "    }\n",
       "</style>\n",
       "<table border=\"1\" class=\"dataframe\">\n",
       "  <thead>\n",
       "    <tr style=\"text-align: right;\">\n",
       "      <th></th>\n",
       "      <th>U.P</th>\n",
       "      <th>M.P</th>\n",
       "      <th>A.P</th>\n",
       "      <th>T.N</th>\n",
       "      <th>BIH</th>\n",
       "      <th>W.B</th>\n",
       "      <th>J.K</th>\n",
       "    </tr>\n",
       "  </thead>\n",
       "  <tbody>\n",
       "    <tr>\n",
       "      <th>population(billions)</th>\n",
       "      <td>10.000000</td>\n",
       "      <td>20.000000</td>\n",
       "      <td>30.00000</td>\n",
       "      <td>40.000000</td>\n",
       "      <td>12.000000</td>\n",
       "      <td>30.000000</td>\n",
       "      <td>16.000000</td>\n",
       "    </tr>\n",
       "    <tr>\n",
       "      <th>density</th>\n",
       "      <td>828.000000</td>\n",
       "      <td>236.000000</td>\n",
       "      <td>303.00000</td>\n",
       "      <td>555.000000</td>\n",
       "      <td>1102.000000</td>\n",
       "      <td>1029.000000</td>\n",
       "      <td>57.000000</td>\n",
       "    </tr>\n",
       "    <tr>\n",
       "      <th>Area</th>\n",
       "      <td>0.012077</td>\n",
       "      <td>0.084746</td>\n",
       "      <td>0.09901</td>\n",
       "      <td>0.072072</td>\n",
       "      <td>0.010889</td>\n",
       "      <td>0.029155</td>\n",
       "      <td>0.280702</td>\n",
       "    </tr>\n",
       "  </tbody>\n",
       "</table>\n",
       "</div>"
      ],
      "text/plain": [
       "                             U.P         M.P        A.P         T.N  \\\n",
       "population(billions)   10.000000   20.000000   30.00000   40.000000   \n",
       "density               828.000000  236.000000  303.00000  555.000000   \n",
       "Area                    0.012077    0.084746    0.09901    0.072072   \n",
       "\n",
       "                              BIH          W.B        J.K  \n",
       "population(billions)    12.000000    30.000000  16.000000  \n",
       "density               1102.000000  1029.000000  57.000000  \n",
       "Area                     0.010889     0.029155   0.280702  "
      ]
     },
     "execution_count": 63,
     "metadata": {},
     "output_type": "execute_result"
    }
   ],
   "source": [
    "data.T"
   ]
  },
  {
   "cell_type": "code",
   "execution_count": 66,
   "metadata": {},
   "outputs": [
    {
     "data": {
      "text/plain": [
       "U.P    0.012077\n",
       "M.P    0.084746\n",
       "A.P    0.099010\n",
       "T.N    0.072072\n",
       "BIH    0.010889\n",
       "W.B    0.029155\n",
       "J.K    0.280702\n",
       "Name: Area, dtype: float64"
      ]
     },
     "execution_count": 66,
     "metadata": {},
     "output_type": "execute_result"
    }
   ],
   "source": [
    "data['Area']"
   ]
  },
  {
   "cell_type": "code",
   "execution_count": 67,
   "metadata": {},
   "outputs": [
    {
     "data": {
      "text/html": [
       "<div>\n",
       "<style scoped>\n",
       "    .dataframe tbody tr th:only-of-type {\n",
       "        vertical-align: middle;\n",
       "    }\n",
       "\n",
       "    .dataframe tbody tr th {\n",
       "        vertical-align: top;\n",
       "    }\n",
       "\n",
       "    .dataframe thead th {\n",
       "        text-align: right;\n",
       "    }\n",
       "</style>\n",
       "<table border=\"1\" class=\"dataframe\">\n",
       "  <thead>\n",
       "    <tr style=\"text-align: right;\">\n",
       "      <th></th>\n",
       "      <th>Unnamed: 0</th>\n",
       "      <th>population(billions)</th>\n",
       "      <th>density</th>\n",
       "      <th>Area</th>\n",
       "    </tr>\n",
       "  </thead>\n",
       "  <tbody>\n",
       "    <tr>\n",
       "      <th>0</th>\n",
       "      <td>U.P</td>\n",
       "      <td>10</td>\n",
       "      <td>828</td>\n",
       "      <td>0.012077</td>\n",
       "    </tr>\n",
       "    <tr>\n",
       "      <th>1</th>\n",
       "      <td>M.P</td>\n",
       "      <td>20</td>\n",
       "      <td>236</td>\n",
       "      <td>0.084746</td>\n",
       "    </tr>\n",
       "    <tr>\n",
       "      <th>2</th>\n",
       "      <td>A.P</td>\n",
       "      <td>30</td>\n",
       "      <td>303</td>\n",
       "      <td>0.099010</td>\n",
       "    </tr>\n",
       "    <tr>\n",
       "      <th>3</th>\n",
       "      <td>T.N</td>\n",
       "      <td>40</td>\n",
       "      <td>555</td>\n",
       "      <td>0.072072</td>\n",
       "    </tr>\n",
       "    <tr>\n",
       "      <th>4</th>\n",
       "      <td>BIH</td>\n",
       "      <td>12</td>\n",
       "      <td>1102</td>\n",
       "      <td>0.010889</td>\n",
       "    </tr>\n",
       "    <tr>\n",
       "      <th>5</th>\n",
       "      <td>W.B</td>\n",
       "      <td>30</td>\n",
       "      <td>1029</td>\n",
       "      <td>0.029155</td>\n",
       "    </tr>\n",
       "    <tr>\n",
       "      <th>6</th>\n",
       "      <td>J.K</td>\n",
       "      <td>16</td>\n",
       "      <td>57</td>\n",
       "      <td>0.280702</td>\n",
       "    </tr>\n",
       "  </tbody>\n",
       "</table>\n",
       "</div>"
      ],
      "text/plain": [
       "  Unnamed: 0  population(billions)  density      Area\n",
       "0        U.P                    10      828  0.012077\n",
       "1        M.P                    20      236  0.084746\n",
       "2        A.P                    30      303  0.099010\n",
       "3        T.N                    40      555  0.072072\n",
       "4        BIH                    12     1102  0.010889\n",
       "5        W.B                    30     1029  0.029155\n",
       "6        J.K                    16       57  0.280702"
      ]
     },
     "execution_count": 67,
     "metadata": {},
     "output_type": "execute_result"
    }
   ],
   "source": [
    "data.to_csv('stats_pop.csv')\n",
    "data.to_excel('stats_pop.xlsx')\n",
    "states_csv = pd.read_csv('stats_pop.csv')\n",
    "states_csv"
   ]
  },
  {
   "cell_type": "code",
   "execution_count": 71,
   "metadata": {},
   "outputs": [
    {
     "data": {
      "text/plain": [
       "0    10\n",
       "1    20\n",
       "2    30\n",
       "3    40\n",
       "4    12\n",
       "5    30\n",
       "6    16\n",
       "Name: population(billions), dtype: int64"
      ]
     },
     "execution_count": 71,
     "metadata": {},
     "output_type": "execute_result"
    }
   ],
   "source": [
    "states_csv['population(billions)']"
   ]
  },
  {
   "cell_type": "code",
   "execution_count": 73,
   "metadata": {},
   "outputs": [
    {
     "data": {
      "text/plain": [
       "population(billions)     40.000000\n",
       "density                 555.000000\n",
       "Area                      0.072072\n",
       "Name: T.N, dtype: float64"
      ]
     },
     "execution_count": 73,
     "metadata": {},
     "output_type": "execute_result"
    }
   ],
   "source": [
    "data.loc['T.N']"
   ]
  },
  {
   "cell_type": "code",
   "execution_count": 78,
   "metadata": {},
   "outputs": [
    {
     "data": {
      "text/html": [
       "<div>\n",
       "<style scoped>\n",
       "    .dataframe tbody tr th:only-of-type {\n",
       "        vertical-align: middle;\n",
       "    }\n",
       "\n",
       "    .dataframe tbody tr th {\n",
       "        vertical-align: top;\n",
       "    }\n",
       "\n",
       "    .dataframe thead th {\n",
       "        text-align: right;\n",
       "    }\n",
       "</style>\n",
       "<table border=\"1\" class=\"dataframe\">\n",
       "  <thead>\n",
       "    <tr style=\"text-align: right;\">\n",
       "      <th></th>\n",
       "      <th>population(billions)</th>\n",
       "      <th>density</th>\n",
       "      <th>Area</th>\n",
       "    </tr>\n",
       "  </thead>\n",
       "  <tbody>\n",
       "    <tr>\n",
       "      <th>T.N</th>\n",
       "      <td>40</td>\n",
       "      <td>555</td>\n",
       "      <td>0.072072</td>\n",
       "    </tr>\n",
       "  </tbody>\n",
       "</table>\n",
       "</div>"
      ],
      "text/plain": [
       "     population(billions)  density      Area\n",
       "T.N                    40      555  0.072072"
      ]
     },
     "execution_count": 78,
     "metadata": {},
     "output_type": "execute_result"
    }
   ],
   "source": [
    "data.iloc[[3]]"
   ]
  },
  {
   "cell_type": "code",
   "execution_count": 80,
   "metadata": {},
   "outputs": [
    {
     "data": {
      "text/html": [
       "<div>\n",
       "<style scoped>\n",
       "    .dataframe tbody tr th:only-of-type {\n",
       "        vertical-align: middle;\n",
       "    }\n",
       "\n",
       "    .dataframe tbody tr th {\n",
       "        vertical-align: top;\n",
       "    }\n",
       "\n",
       "    .dataframe thead th {\n",
       "        text-align: right;\n",
       "    }\n",
       "</style>\n",
       "<table border=\"1\" class=\"dataframe\">\n",
       "  <thead>\n",
       "    <tr style=\"text-align: right;\">\n",
       "      <th></th>\n",
       "      <th>States</th>\n",
       "      <th>population(billions)</th>\n",
       "      <th>density</th>\n",
       "      <th>Area</th>\n",
       "    </tr>\n",
       "  </thead>\n",
       "  <tbody>\n",
       "    <tr>\n",
       "      <th>0</th>\n",
       "      <td>U.P</td>\n",
       "      <td>10</td>\n",
       "      <td>828</td>\n",
       "      <td>0.012077</td>\n",
       "    </tr>\n",
       "    <tr>\n",
       "      <th>1</th>\n",
       "      <td>M.P</td>\n",
       "      <td>20</td>\n",
       "      <td>236</td>\n",
       "      <td>0.084746</td>\n",
       "    </tr>\n",
       "    <tr>\n",
       "      <th>2</th>\n",
       "      <td>A.P</td>\n",
       "      <td>30</td>\n",
       "      <td>303</td>\n",
       "      <td>0.099010</td>\n",
       "    </tr>\n",
       "    <tr>\n",
       "      <th>3</th>\n",
       "      <td>T.N</td>\n",
       "      <td>40</td>\n",
       "      <td>555</td>\n",
       "      <td>0.072072</td>\n",
       "    </tr>\n",
       "    <tr>\n",
       "      <th>4</th>\n",
       "      <td>BIH</td>\n",
       "      <td>12</td>\n",
       "      <td>1102</td>\n",
       "      <td>0.010889</td>\n",
       "    </tr>\n",
       "    <tr>\n",
       "      <th>5</th>\n",
       "      <td>W.B</td>\n",
       "      <td>30</td>\n",
       "      <td>1029</td>\n",
       "      <td>0.029155</td>\n",
       "    </tr>\n",
       "    <tr>\n",
       "      <th>6</th>\n",
       "      <td>J.K</td>\n",
       "      <td>16</td>\n",
       "      <td>57</td>\n",
       "      <td>0.280702</td>\n",
       "    </tr>\n",
       "  </tbody>\n",
       "</table>\n",
       "</div>"
      ],
      "text/plain": [
       "  States  population(billions)  density      Area\n",
       "0    U.P                    10      828  0.012077\n",
       "1    M.P                    20      236  0.084746\n",
       "2    A.P                    30      303  0.099010\n",
       "3    T.N                    40      555  0.072072\n",
       "4    BIH                    12     1102  0.010889\n",
       "5    W.B                    30     1029  0.029155\n",
       "6    J.K                    16       57  0.280702"
      ]
     },
     "execution_count": 80,
     "metadata": {},
     "output_type": "execute_result"
    }
   ],
   "source": [
    "states_csv.columns=('States','population(billions)','density','Area')\n",
    "states_csv"
   ]
  },
  {
   "cell_type": "code",
   "execution_count": 81,
   "metadata": {},
   "outputs": [
    {
     "data": {
      "text/plain": [
       "4110"
      ]
     },
     "execution_count": 81,
     "metadata": {},
     "output_type": "execute_result"
    }
   ],
   "source": [
    "sum(density)"
   ]
  },
  {
   "cell_type": "code",
   "execution_count": 84,
   "metadata": {},
   "outputs": [
    {
     "data": {
      "text/plain": [
       "158"
      ]
     },
     "execution_count": 84,
     "metadata": {},
     "output_type": "execute_result"
    }
   ],
   "source": [
    "sum(population)"
   ]
  },
  {
   "cell_type": "code",
   "execution_count": 85,
   "metadata": {},
   "outputs": [
    {
     "data": {
      "text/plain": [
       "57"
      ]
     },
     "execution_count": 85,
     "metadata": {},
     "output_type": "execute_result"
    }
   ],
   "source": [
    "min(density)"
   ]
  },
  {
   "cell_type": "code",
   "execution_count": 86,
   "metadata": {},
   "outputs": [
    {
     "data": {
      "text/plain": [
       "1102"
      ]
     },
     "execution_count": 86,
     "metadata": {},
     "output_type": "execute_result"
    }
   ],
   "source": [
    "max(density)"
   ]
  },
  {
   "cell_type": "code",
   "execution_count": 89,
   "metadata": {},
   "outputs": [
    {
     "data": {
      "text/html": [
       "<div>\n",
       "<style scoped>\n",
       "    .dataframe tbody tr th:only-of-type {\n",
       "        vertical-align: middle;\n",
       "    }\n",
       "\n",
       "    .dataframe tbody tr th {\n",
       "        vertical-align: top;\n",
       "    }\n",
       "\n",
       "    .dataframe thead th {\n",
       "        text-align: right;\n",
       "    }\n",
       "</style>\n",
       "<table border=\"1\" class=\"dataframe\">\n",
       "  <thead>\n",
       "    <tr style=\"text-align: right;\">\n",
       "      <th></th>\n",
       "      <th>population(billions)</th>\n",
       "      <th>density</th>\n",
       "      <th>Area</th>\n",
       "    </tr>\n",
       "    <tr>\n",
       "      <th>States</th>\n",
       "      <th></th>\n",
       "      <th></th>\n",
       "      <th></th>\n",
       "    </tr>\n",
       "  </thead>\n",
       "  <tbody>\n",
       "    <tr>\n",
       "      <th>U.P</th>\n",
       "      <td>10</td>\n",
       "      <td>828</td>\n",
       "      <td>0.012077</td>\n",
       "    </tr>\n",
       "    <tr>\n",
       "      <th>M.P</th>\n",
       "      <td>20</td>\n",
       "      <td>236</td>\n",
       "      <td>0.084746</td>\n",
       "    </tr>\n",
       "    <tr>\n",
       "      <th>A.P</th>\n",
       "      <td>30</td>\n",
       "      <td>303</td>\n",
       "      <td>0.099010</td>\n",
       "    </tr>\n",
       "    <tr>\n",
       "      <th>T.N</th>\n",
       "      <td>40</td>\n",
       "      <td>555</td>\n",
       "      <td>0.072072</td>\n",
       "    </tr>\n",
       "    <tr>\n",
       "      <th>BIH</th>\n",
       "      <td>12</td>\n",
       "      <td>1102</td>\n",
       "      <td>0.010889</td>\n",
       "    </tr>\n",
       "    <tr>\n",
       "      <th>W.B</th>\n",
       "      <td>30</td>\n",
       "      <td>1029</td>\n",
       "      <td>0.029155</td>\n",
       "    </tr>\n",
       "    <tr>\n",
       "      <th>J.K</th>\n",
       "      <td>16</td>\n",
       "      <td>57</td>\n",
       "      <td>0.280702</td>\n",
       "    </tr>\n",
       "  </tbody>\n",
       "</table>\n",
       "</div>"
      ],
      "text/plain": [
       "        population(billions)  density      Area\n",
       "States                                         \n",
       "U.P                       10      828  0.012077\n",
       "M.P                       20      236  0.084746\n",
       "A.P                       30      303  0.099010\n",
       "T.N                       40      555  0.072072\n",
       "BIH                       12     1102  0.010889\n",
       "W.B                       30     1029  0.029155\n",
       "J.K                       16       57  0.280702"
      ]
     },
     "execution_count": 89,
     "metadata": {},
     "output_type": "execute_result"
    }
   ],
   "source": [
    "st = states_csv.set_index('States')\n",
    "st"
   ]
  },
  {
   "cell_type": "code",
   "execution_count": 90,
   "metadata": {},
   "outputs": [
    {
     "data": {
      "text/plain": [
       "30"
      ]
     },
     "execution_count": 90,
     "metadata": {},
     "output_type": "execute_result"
    }
   ],
   "source": [
    "st['population(billions)']['A.P']"
   ]
  },
  {
   "cell_type": "code",
   "execution_count": null,
   "metadata": {},
   "outputs": [],
   "source": []
  }
 ],
 "metadata": {
  "kernelspec": {
   "display_name": "Python 3",
   "language": "python",
   "name": "python3"
  },
  "language_info": {
   "codemirror_mode": {
    "name": "ipython",
    "version": 3
   },
   "file_extension": ".py",
   "mimetype": "text/x-python",
   "name": "python",
   "nbconvert_exporter": "python",
   "pygments_lexer": "ipython3",
   "version": "3.7.3"
  }
 },
 "nbformat": 4,
 "nbformat_minor": 2
}
